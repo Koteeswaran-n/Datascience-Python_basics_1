{
 "cells": [
  {
   "cell_type": "markdown",
   "id": "2482c8fc",
   "metadata": {},
   "source": [
    "### 1.\tCreate a file calc.py which has following functions\n",
    "a.\tFunction to find the factorial of a number\n",
    "b.\tFunction to convert degree to Fahrenheit\n",
    "Write a new program in file “maths.py” such that you import functions of the file calc.py to your new program. Use from <module> import <functions> statement to import the functions from the calc module"
   ]
  },
  {
   "cell_type": "code",
   "execution_count": 1,
   "id": "b1c403ea",
   "metadata": {},
   "outputs": [],
   "source": [
    "# Below  code is created and stored in site packages in the name of calc.py\n",
    "def factorial(x):\n",
    "    \"\"\"This is a recursive function to find the factorial of an integer\"\"\"\n",
    "\n",
    "    if x == 1:\n",
    "        return 1\n",
    "    else:\n",
    "        # recursive call to the function\n",
    "        return (x * factorial(x-1))\n",
    "\n",
    "def Degree_to_Fahreheit(degree):\n",
    "    fahrenheit = (9/5)*degree + 32\n",
    "    return (f\"{fahrenheit} °F\")"
   ]
  },
  {
   "cell_type": "code",
   "execution_count": 2,
   "id": "682fbefb",
   "metadata": {},
   "outputs": [],
   "source": [
    "# Below  code is created and stored in site packages in the name of math.py\n",
    "import calc\n",
    "from calc import *"
   ]
  },
  {
   "cell_type": "code",
   "execution_count": 3,
   "id": "840d4618",
   "metadata": {},
   "outputs": [
    {
     "name": "stdout",
     "output_type": "stream",
     "text": [
      "Enter a number to find the factorial: 8\n",
      "The factorial of 8 is 40320\n",
      "Enter a number to find the fahrenheit of entered Degree value: 45\n",
      "The fahrenheit of  45 is 113.0 °F\n"
     ]
    }
   ],
   "source": [
    "# to take input from the user\n",
    "num = int(input(\"Enter a number to find the factorial: \"))\n",
    "# call the factorial function\n",
    "result = factorial(num)\n",
    "print(\"The factorial of\", num, \"is\", result)\n",
    "num1 = int(input(\"Enter a number to find the fahrenheit of entered Degree value: \"))\n",
    "# call the Degree_to_Fahreheit function\n",
    "result1 = Degree_to_Fahreheit(num1)\n",
    "print(\"The fahrenheit of \", num1, \"is\", result1)"
   ]
  },
  {
   "cell_type": "markdown",
   "id": "ea760e2e",
   "metadata": {},
   "source": [
    "### 2.\tImplement a simple generator for Fibonacci series"
   ]
  },
  {
   "cell_type": "code",
   "execution_count": 13,
   "id": "bf474d74",
   "metadata": {},
   "outputs": [],
   "source": [
    "# Python program to display the Fibonacci sequence using simple Generator\n",
    "def fibo(n):\n",
    "    a, b = 0, 1\n",
    "    for i in range(n):\n",
    "        yield a\n",
    "        a, b = b, a + b"
   ]
  },
  {
   "cell_type": "code",
   "execution_count": 14,
   "id": "0a5c3bb5",
   "metadata": {},
   "outputs": [
    {
     "name": "stdout",
     "output_type": "stream",
     "text": [
      "Enter how many number you would like to see as fibonacci series :10\n",
      "0\n",
      "1\n",
      "1\n",
      "2\n",
      "3\n",
      "5\n",
      "8\n",
      "13\n",
      "21\n",
      "34\n"
     ]
    }
   ],
   "source": [
    "# to take input from the user\n",
    "d = int(input(\"Enter how many number you would like to see as fibonacci series :\"))\n",
    "for i in fibo(d):\n",
    "    print (i)"
   ]
  },
  {
   "cell_type": "code",
   "execution_count": 15,
   "id": "eaf12b2d",
   "metadata": {},
   "outputs": [],
   "source": [
    "# Python program to display the Fibonacci sequence using recurrsion \n",
    "\n",
    "def recur_fibo(n):\n",
    "   if n <= 1:\n",
    "       return n\n",
    "   else:\n",
    "       return(recur_fibo(n-1) + recur_fibo(n-2))"
   ]
  },
  {
   "cell_type": "code",
   "execution_count": 16,
   "id": "889bb06e",
   "metadata": {},
   "outputs": [
    {
     "name": "stdout",
     "output_type": "stream",
     "text": [
      "Enter how many number you would like to see as fibonacci series :10\n",
      "Fibonacci sequence:\n",
      "0\n",
      "1\n",
      "1\n",
      "2\n",
      "3\n",
      "5\n",
      "8\n",
      "13\n",
      "21\n",
      "34\n"
     ]
    }
   ],
   "source": [
    "# to take input from the user\n",
    "input1 = int(input(\"Enter how many number you would like to see as fibonacci series :\"))\n",
    "\n",
    "# check if the number of terms is valid\n",
    "if input1 <= 0:\n",
    "   print(\"Plese enter a positive integer\")\n",
    "else:\n",
    "    print(\"Fibonacci sequence:\")\n",
    "    for i in range(input1):\n",
    "        print(recur_fibo(i))"
   ]
  },
  {
   "cell_type": "code",
   "execution_count": 17,
   "id": "844010b0",
   "metadata": {},
   "outputs": [
    {
     "name": "stdout",
     "output_type": "stream",
     "text": [
      "Enter a number to display the fibonacci series :-5\n",
      "Plese enter a positive integer\n"
     ]
    }
   ],
   "source": [
    "# checking the output when the input is negative\n",
    "\n",
    "input1 = int(input(\"Enter a number to display the fibonacci series :\"))\n",
    "\n",
    "# check if the number of terms is valid\n",
    "if input1 <= 0:\n",
    "   print(\"Plese enter a positive integer\")\n",
    "else:\n",
    "    print(\"Fibonacci sequence:\")\n",
    "    for i in range(input1):\n",
    "        print(recur_fibo(i))"
   ]
  },
  {
   "cell_type": "markdown",
   "id": "1695bc68",
   "metadata": {},
   "source": [
    "### 3.\tWrite an iterator class to iterate over a sequence of values in the reverse direction"
   ]
  },
  {
   "cell_type": "code",
   "execution_count": 18,
   "id": "d7c03dca",
   "metadata": {},
   "outputs": [],
   "source": [
    "class square_val:\n",
    "    \"\"\"Class to implement an iterator of square values from 1 to the number entered of a number\"\"\"\n",
    "\n",
    "    def __init__(self, max=0):\n",
    "        self.max = max\n",
    "\n",
    "    def __iter__(self):\n",
    "        self.n = 0\n",
    "        return self\n",
    "\n",
    "    def __next__(self):\n",
    "        if self.n <= self.max:\n",
    "            result = 2 ** self.n\n",
    "            self.n += 1\n",
    "            return result\n",
    "        else:\n",
    "            raise StopIteration"
   ]
  },
  {
   "cell_type": "code",
   "execution_count": 19,
   "id": "cd0b5809",
   "metadata": {},
   "outputs": [],
   "source": [
    "input1 = square_val(3)\n",
    "i = iter(input1)"
   ]
  },
  {
   "cell_type": "code",
   "execution_count": 20,
   "id": "5644a14e",
   "metadata": {},
   "outputs": [
    {
     "name": "stdout",
     "output_type": "stream",
     "text": [
      "1\n"
     ]
    }
   ],
   "source": [
    "print(next(i))"
   ]
  },
  {
   "cell_type": "code",
   "execution_count": 21,
   "id": "cd63b5f0",
   "metadata": {},
   "outputs": [
    {
     "name": "stdout",
     "output_type": "stream",
     "text": [
      "2\n"
     ]
    }
   ],
   "source": [
    "print(next(i))"
   ]
  },
  {
   "cell_type": "code",
   "execution_count": 22,
   "id": "689c8d58",
   "metadata": {},
   "outputs": [
    {
     "name": "stdout",
     "output_type": "stream",
     "text": [
      "4\n"
     ]
    }
   ],
   "source": [
    "print(next(i))"
   ]
  },
  {
   "cell_type": "code",
   "execution_count": 23,
   "id": "cfab29da",
   "metadata": {},
   "outputs": [
    {
     "name": "stdout",
     "output_type": "stream",
     "text": [
      "8\n"
     ]
    }
   ],
   "source": [
    "print(next(i))"
   ]
  },
  {
   "cell_type": "code",
   "execution_count": 24,
   "id": "7661f77f",
   "metadata": {},
   "outputs": [
    {
     "ename": "StopIteration",
     "evalue": "",
     "output_type": "error",
     "traceback": [
      "\u001b[1;31m---------------------------------------------------------------------------\u001b[0m",
      "\u001b[1;31mStopIteration\u001b[0m                             Traceback (most recent call last)",
      "\u001b[1;32m~\\AppData\\Local\\Temp/ipykernel_32836/3021917106.py\u001b[0m in \u001b[0;36m<module>\u001b[1;34m\u001b[0m\n\u001b[1;32m----> 1\u001b[1;33m \u001b[0mprint\u001b[0m\u001b[1;33m(\u001b[0m\u001b[0mnext\u001b[0m\u001b[1;33m(\u001b[0m\u001b[0mi\u001b[0m\u001b[1;33m)\u001b[0m\u001b[1;33m)\u001b[0m\u001b[1;33m\u001b[0m\u001b[1;33m\u001b[0m\u001b[0m\n\u001b[0m",
      "\u001b[1;32m~\\AppData\\Local\\Temp/ipykernel_32836/3819364032.py\u001b[0m in \u001b[0;36m__next__\u001b[1;34m(self)\u001b[0m\n\u001b[0;32m     15\u001b[0m             \u001b[1;32mreturn\u001b[0m \u001b[0mresult\u001b[0m\u001b[1;33m\u001b[0m\u001b[1;33m\u001b[0m\u001b[0m\n\u001b[0;32m     16\u001b[0m         \u001b[1;32melse\u001b[0m\u001b[1;33m:\u001b[0m\u001b[1;33m\u001b[0m\u001b[1;33m\u001b[0m\u001b[0m\n\u001b[1;32m---> 17\u001b[1;33m             \u001b[1;32mraise\u001b[0m \u001b[0mStopIteration\u001b[0m\u001b[1;33m\u001b[0m\u001b[1;33m\u001b[0m\u001b[0m\n\u001b[0m",
      "\u001b[1;31mStopIteration\u001b[0m: "
     ]
    }
   ],
   "source": [
    "print(next(i))"
   ]
  },
  {
   "cell_type": "markdown",
   "id": "434d8026",
   "metadata": {},
   "source": [
    "### 4.\tWrite a function “salary” that takes in base pay, HRA and special allowance as arguments and returns the sum of all the 3 salary elements. Then create a decorator function to add an additional element “Tax” (30% of base pay) and assign it back to base pay variable, and return the function (i.e., the final calculation of salary also includes tax)"
   ]
  },
  {
   "cell_type": "code",
   "execution_count": 31,
   "id": "8fa7a0c5",
   "metadata": {},
   "outputs": [],
   "source": [
    "def Gross_sal(func):\n",
    "    def gross_pay(basic,HRA,Spec_Allow):\n",
    "        gros_sal = (basic+HRA+Spec_Allow)\n",
    "        print(f\"Gross Salary is: {gros_sal}\")\n",
    "        return func(basic,HRA,Spec_Allow)\n",
    "    return gross_pay"
   ]
  },
  {
   "cell_type": "code",
   "execution_count": 36,
   "id": "58011bd7",
   "metadata": {},
   "outputs": [],
   "source": [
    "@Gross_sal\n",
    "def Salary(basic,HRA,Spec_Allow):\n",
    "    sal = (basic+HRA+Spec_Allow)\n",
    "    final_pay = sal - sal*(30/100)\n",
    "    print(f\"Net Salary with 30% Tax deduction on Gross salary is: {final_pay}\")"
   ]
  },
  {
   "cell_type": "code",
   "execution_count": 37,
   "id": "0ede8f79",
   "metadata": {},
   "outputs": [
    {
     "name": "stdout",
     "output_type": "stream",
     "text": [
      "Gross Salary is: 52000\n",
      "Net Salary with 30% Tax deduction on Gross salary is: 36400.0\n"
     ]
    }
   ],
   "source": [
    "Salary(40000,10000,2000)"
   ]
  },
  {
   "cell_type": "markdown",
   "id": "f06f6f11",
   "metadata": {},
   "source": [
    "### 5.\tWrite 3 examples on possible methods to changing a tuple"
   ]
  },
  {
   "cell_type": "markdown",
   "id": "72c4c659",
   "metadata": {},
   "source": [
    "Site referred is https://note.nkmk.me/en/python-tuple-operation/"
   ]
  },
  {
   "cell_type": "code",
   "execution_count": 38,
   "id": "e657cbe9",
   "metadata": {},
   "outputs": [
    {
     "data": {
      "text/plain": [
       "tuple"
      ]
     },
     "execution_count": 38,
     "metadata": {},
     "output_type": "execute_result"
    }
   ],
   "source": [
    "tuple1 = (1,2,3,4,5)\n",
    "type(tuple1)"
   ]
  },
  {
   "cell_type": "code",
   "execution_count": 39,
   "id": "2d525b01",
   "metadata": {},
   "outputs": [
    {
     "ename": "TypeError",
     "evalue": "'tuple' object does not support item assignment",
     "output_type": "error",
     "traceback": [
      "\u001b[1;31m---------------------------------------------------------------------------\u001b[0m",
      "\u001b[1;31mTypeError\u001b[0m                                 Traceback (most recent call last)",
      "\u001b[1;32m~\\AppData\\Local\\Temp/ipykernel_32836/345067431.py\u001b[0m in \u001b[0;36m<module>\u001b[1;34m\u001b[0m\n\u001b[1;32m----> 1\u001b[1;33m \u001b[0mtuple1\u001b[0m\u001b[1;33m[\u001b[0m\u001b[1;36m0\u001b[0m\u001b[1;33m]\u001b[0m \u001b[1;33m=\u001b[0m \u001b[1;36m10\u001b[0m\u001b[1;33m\u001b[0m\u001b[1;33m\u001b[0m\u001b[0m\n\u001b[0m",
      "\u001b[1;31mTypeError\u001b[0m: 'tuple' object does not support item assignment"
     ]
    }
   ],
   "source": [
    "tuple1[0] = 10"
   ]
  },
  {
   "cell_type": "code",
   "execution_count": 40,
   "id": "e4e186f0",
   "metadata": {},
   "outputs": [
    {
     "name": "stdout",
     "output_type": "stream",
     "text": [
      "(1, 2, 3, 4, 5, 6, 7, 8)\n"
     ]
    }
   ],
   "source": [
    "# method 1:- using concatenate option we can add to a tuple\n",
    "\n",
    "tuple_concat = tuple1 + (6,7,8)\n",
    "print(tuple_concat)"
   ]
  },
  {
   "cell_type": "code",
   "execution_count": 43,
   "id": "c211b050",
   "metadata": {},
   "outputs": [
    {
     "name": "stdout",
     "output_type": "stream",
     "text": [
      "The converted values under list is : [1, 2, 3, 4, 5]\n",
      "The updated tuple value for tuple1 is : (1, 2, 8, 4, 5)\n"
     ]
    }
   ],
   "source": [
    "# Method 2:- convert tuple to list. after updating the elements of the list change it back to tuple\n",
    "list1 = list(tuple1)\n",
    "print(\"The converted values under list is :\", list1)\n",
    "list1[2] = 8 # update index value 2 to 8\n",
    "tuple2 = tuple(list1)\n",
    "print(\"The updated tuple value for tuple1 is :\", tuple2)"
   ]
  },
  {
   "cell_type": "code",
   "execution_count": 44,
   "id": "eb54277c",
   "metadata": {},
   "outputs": [
    {
     "name": "stdout",
     "output_type": "stream",
     "text": [
      "The converted values under list from tuple is : [1, 2, 8, 4, 5]\n",
      "The updated tuple value for tuple2 is : (1, 8, 4, 5)\n"
     ]
    }
   ],
   "source": [
    "# method 3:- Remove items in tuple\n",
    "list2 = list(tuple2)\n",
    "print(\"The converted values under list from tuple is :\", list2)\n",
    "list2.remove(2) # removed the value in index 2\n",
    "tuple3 = tuple(list2)\n",
    "print(\"The updated tuple value for tuple2 is :\", tuple3)"
   ]
  },
  {
   "cell_type": "code",
   "execution_count": null,
   "id": "b9dc736e",
   "metadata": {},
   "outputs": [],
   "source": []
  }
 ],
 "metadata": {
  "kernelspec": {
   "display_name": "Python 3 (ipykernel)",
   "language": "python",
   "name": "python3"
  },
  "language_info": {
   "codemirror_mode": {
    "name": "ipython",
    "version": 3
   },
   "file_extension": ".py",
   "mimetype": "text/x-python",
   "name": "python",
   "nbconvert_exporter": "python",
   "pygments_lexer": "ipython3",
   "version": "3.9.7"
  }
 },
 "nbformat": 4,
 "nbformat_minor": 5
}
