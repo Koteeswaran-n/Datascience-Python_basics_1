{
 "cells": [
  {
   "cell_type": "markdown",
   "id": "841ea159",
   "metadata": {},
   "source": [
    "### 1. Get the input for 2 variables though “input” function and pass them to a function to return the addition of two variables"
   ]
  },
  {
   "cell_type": "code",
   "execution_count": 1,
   "id": "d4dd9374",
   "metadata": {},
   "outputs": [],
   "source": [
    "def add_function(input1,input2):\n",
    "    \"\"\"This function will add given two numbers and return the Sum\"\"\"\n",
    "    Sum=input1+input2\n",
    "    return Sum"
   ]
  },
  {
   "cell_type": "code",
   "execution_count": 2,
   "id": "b9afdd3c",
   "metadata": {},
   "outputs": [
    {
     "name": "stdout",
     "output_type": "stream",
     "text": [
      "Please enter number 1: 10\n",
      "Please enter number 2: 20\n",
      "Sum of Two given numbers is :  30\n"
     ]
    }
   ],
   "source": [
    "Value1 = int(input(\"Please enter number 1: \"))\n",
    "Value2 = int(input(\"Please enter number 2: \"))\n",
    "Add_value = add_function(Value1,Value2)\n",
    "print(\"Sum of Two given numbers is : \", Add_value)"
   ]
  },
  {
   "cell_type": "markdown",
   "id": "67b4e01e",
   "metadata": {},
   "source": [
    "### 2. What happens if we try to add an int with str and vice versa. Please print out the error"
   ]
  },
  {
   "cell_type": "markdown",
   "id": "017d4939",
   "metadata": {},
   "source": [
    "#### a) Adding Integer with String"
   ]
  },
  {
   "cell_type": "code",
   "execution_count": 3,
   "id": "7a1c7d0b",
   "metadata": {},
   "outputs": [
    {
     "name": "stdout",
     "output_type": "stream",
     "text": [
      "Please enter number 1: 20\n",
      "Please enter number 2: Koteeswaran\n"
     ]
    },
    {
     "ename": "ValueError",
     "evalue": "invalid literal for int() with base 10: 'Koteeswaran'",
     "output_type": "error",
     "traceback": [
      "\u001b[1;31m---------------------------------------------------------------------------\u001b[0m",
      "\u001b[1;31mValueError\u001b[0m                                Traceback (most recent call last)",
      "\u001b[1;32m~\\AppData\\Local\\Temp/ipykernel_43884/2185735666.py\u001b[0m in \u001b[0;36m<module>\u001b[1;34m\u001b[0m\n\u001b[0;32m      1\u001b[0m \u001b[0mValue1\u001b[0m \u001b[1;33m=\u001b[0m \u001b[0mint\u001b[0m\u001b[1;33m(\u001b[0m\u001b[0minput\u001b[0m\u001b[1;33m(\u001b[0m\u001b[1;34m\"Please enter number 1: \"\u001b[0m\u001b[1;33m)\u001b[0m\u001b[1;33m)\u001b[0m\u001b[1;33m\u001b[0m\u001b[1;33m\u001b[0m\u001b[0m\n\u001b[1;32m----> 2\u001b[1;33m \u001b[0mValue2\u001b[0m \u001b[1;33m=\u001b[0m \u001b[0mint\u001b[0m\u001b[1;33m(\u001b[0m\u001b[0minput\u001b[0m\u001b[1;33m(\u001b[0m\u001b[1;34m\"Please enter number 2: \"\u001b[0m\u001b[1;33m)\u001b[0m\u001b[1;33m)\u001b[0m\u001b[1;33m\u001b[0m\u001b[1;33m\u001b[0m\u001b[0m\n\u001b[0m\u001b[0;32m      3\u001b[0m \u001b[0mAdd_value\u001b[0m \u001b[1;33m=\u001b[0m \u001b[0madd_function\u001b[0m\u001b[1;33m(\u001b[0m\u001b[0mValue1\u001b[0m\u001b[1;33m,\u001b[0m\u001b[0mValue2\u001b[0m\u001b[1;33m)\u001b[0m\u001b[1;33m\u001b[0m\u001b[1;33m\u001b[0m\u001b[0m\n\u001b[0;32m      4\u001b[0m \u001b[0mprint\u001b[0m\u001b[1;33m(\u001b[0m\u001b[1;34m\"Sum of Two given numbers is : \"\u001b[0m\u001b[1;33m,\u001b[0m \u001b[0mAdd_value\u001b[0m\u001b[1;33m)\u001b[0m\u001b[1;33m\u001b[0m\u001b[1;33m\u001b[0m\u001b[0m\n",
      "\u001b[1;31mValueError\u001b[0m: invalid literal for int() with base 10: 'Koteeswaran'"
     ]
    }
   ],
   "source": [
    "Value1 = int(input(\"Please enter number 1: \"))\n",
    "Value2 = int(input(\"Please enter number 2: \"))\n",
    "Add_value = add_function(Value1,Value2)\n",
    "print(\"Sum of Two given numbers is : \", Add_value)"
   ]
  },
  {
   "cell_type": "code",
   "execution_count": 5,
   "id": "0eeb59e5",
   "metadata": {},
   "outputs": [
    {
     "name": "stdout",
     "output_type": "stream",
     "text": [
      "Please enter number 1: 20\n",
      "Please enter number 2: Koteeswaran\n",
      "Sum of Two given numbers is :  20Koteeswaran\n"
     ]
    }
   ],
   "source": [
    "Value1 = input(\"Please enter number 1: \")\n",
    "Value2 = input(\"Please enter number 2: \")\n",
    "Add_value = add_function(Value1,Value2)\n",
    "print(\"Sum of Two given numbers is : \", Add_value)"
   ]
  },
  {
   "cell_type": "code",
   "execution_count": 6,
   "id": "245d291a",
   "metadata": {},
   "outputs": [
    {
     "name": "stdout",
     "output_type": "stream",
     "text": [
      "Please enter number 1: 20\n",
      "Please enter number 2: Koteeswaran\n"
     ]
    },
    {
     "ename": "TypeError",
     "evalue": "unsupported operand type(s) for +: 'int' and 'str'",
     "output_type": "error",
     "traceback": [
      "\u001b[1;31m---------------------------------------------------------------------------\u001b[0m",
      "\u001b[1;31mTypeError\u001b[0m                                 Traceback (most recent call last)",
      "\u001b[1;32m~\\AppData\\Local\\Temp/ipykernel_43884/1635089567.py\u001b[0m in \u001b[0;36m<module>\u001b[1;34m\u001b[0m\n\u001b[0;32m      1\u001b[0m \u001b[0mValue1\u001b[0m \u001b[1;33m=\u001b[0m \u001b[0mint\u001b[0m\u001b[1;33m(\u001b[0m\u001b[0minput\u001b[0m\u001b[1;33m(\u001b[0m\u001b[1;34m\"Please enter number 1: \"\u001b[0m\u001b[1;33m)\u001b[0m\u001b[1;33m)\u001b[0m\u001b[1;33m\u001b[0m\u001b[1;33m\u001b[0m\u001b[0m\n\u001b[0;32m      2\u001b[0m \u001b[0mValue2\u001b[0m \u001b[1;33m=\u001b[0m \u001b[0minput\u001b[0m\u001b[1;33m(\u001b[0m\u001b[1;34m\"Please enter number 2: \"\u001b[0m\u001b[1;33m)\u001b[0m\u001b[1;33m\u001b[0m\u001b[1;33m\u001b[0m\u001b[0m\n\u001b[1;32m----> 3\u001b[1;33m \u001b[0mAdd_value\u001b[0m \u001b[1;33m=\u001b[0m \u001b[0madd_function\u001b[0m\u001b[1;33m(\u001b[0m\u001b[0mValue1\u001b[0m\u001b[1;33m,\u001b[0m\u001b[0mValue2\u001b[0m\u001b[1;33m)\u001b[0m\u001b[1;33m\u001b[0m\u001b[1;33m\u001b[0m\u001b[0m\n\u001b[0m\u001b[0;32m      4\u001b[0m \u001b[0mprint\u001b[0m\u001b[1;33m(\u001b[0m\u001b[1;34m\"Sum of Two given numbers is : \"\u001b[0m\u001b[1;33m,\u001b[0m \u001b[0mAdd_value\u001b[0m\u001b[1;33m)\u001b[0m\u001b[1;33m\u001b[0m\u001b[1;33m\u001b[0m\u001b[0m\n",
      "\u001b[1;32m~\\AppData\\Local\\Temp/ipykernel_43884/1526803270.py\u001b[0m in \u001b[0;36madd_function\u001b[1;34m(input1, input2)\u001b[0m\n\u001b[0;32m      1\u001b[0m \u001b[1;32mdef\u001b[0m \u001b[0madd_function\u001b[0m\u001b[1;33m(\u001b[0m\u001b[0minput1\u001b[0m\u001b[1;33m,\u001b[0m\u001b[0minput2\u001b[0m\u001b[1;33m)\u001b[0m\u001b[1;33m:\u001b[0m\u001b[1;33m\u001b[0m\u001b[1;33m\u001b[0m\u001b[0m\n\u001b[0;32m      2\u001b[0m     \u001b[1;34m\"\"\"This function will add given two numbers and return the Sum\"\"\"\u001b[0m\u001b[1;33m\u001b[0m\u001b[1;33m\u001b[0m\u001b[0m\n\u001b[1;32m----> 3\u001b[1;33m     \u001b[0mSum\u001b[0m\u001b[1;33m=\u001b[0m\u001b[0minput1\u001b[0m\u001b[1;33m+\u001b[0m\u001b[0minput2\u001b[0m\u001b[1;33m\u001b[0m\u001b[1;33m\u001b[0m\u001b[0m\n\u001b[0m\u001b[0;32m      4\u001b[0m     \u001b[1;32mreturn\u001b[0m \u001b[0mSum\u001b[0m\u001b[1;33m\u001b[0m\u001b[1;33m\u001b[0m\u001b[0m\n",
      "\u001b[1;31mTypeError\u001b[0m: unsupported operand type(s) for +: 'int' and 'str'"
     ]
    }
   ],
   "source": [
    "Value1 = int(input(\"Please enter number 1: \"))\n",
    "Value2 = input(\"Please enter number 2: \")\n",
    "Add_value = add_function(Value1,Value2)\n",
    "print(\"Sum of Two given numbers is : \", Add_value)"
   ]
  },
  {
   "cell_type": "markdown",
   "id": "43657d79",
   "metadata": {},
   "source": [
    "#### b) Adding String With Integer"
   ]
  },
  {
   "cell_type": "code",
   "execution_count": 7,
   "id": "5280c529",
   "metadata": {},
   "outputs": [
    {
     "name": "stdout",
     "output_type": "stream",
     "text": [
      "Please enter number 1: Koteeswaran\n",
      "Please enter number 2: 20\n",
      "Sum of Two given numbers is :  Koteeswaran20\n"
     ]
    }
   ],
   "source": [
    "Value1 = input(\"Please enter number 1: \")\n",
    "Value2 = input(\"Please enter number 2: \")\n",
    "Add_value = add_function(Value1,Value2)\n",
    "print(\"Sum of Two given numbers is : \", Add_value)"
   ]
  },
  {
   "cell_type": "code",
   "execution_count": 8,
   "id": "b37710c7",
   "metadata": {},
   "outputs": [
    {
     "name": "stdout",
     "output_type": "stream",
     "text": [
      "Please enter number 1: Koteeswaran\n",
      "Please enter number 2: 20\n"
     ]
    },
    {
     "ename": "TypeError",
     "evalue": "can only concatenate str (not \"int\") to str",
     "output_type": "error",
     "traceback": [
      "\u001b[1;31m---------------------------------------------------------------------------\u001b[0m",
      "\u001b[1;31mTypeError\u001b[0m                                 Traceback (most recent call last)",
      "\u001b[1;32m~\\AppData\\Local\\Temp/ipykernel_43884/799196353.py\u001b[0m in \u001b[0;36m<module>\u001b[1;34m\u001b[0m\n\u001b[0;32m      1\u001b[0m \u001b[0mValue1\u001b[0m \u001b[1;33m=\u001b[0m \u001b[0minput\u001b[0m\u001b[1;33m(\u001b[0m\u001b[1;34m\"Please enter number 1: \"\u001b[0m\u001b[1;33m)\u001b[0m\u001b[1;33m\u001b[0m\u001b[1;33m\u001b[0m\u001b[0m\n\u001b[0;32m      2\u001b[0m \u001b[0mValue2\u001b[0m \u001b[1;33m=\u001b[0m \u001b[0mint\u001b[0m\u001b[1;33m(\u001b[0m\u001b[0minput\u001b[0m\u001b[1;33m(\u001b[0m\u001b[1;34m\"Please enter number 2: \"\u001b[0m\u001b[1;33m)\u001b[0m\u001b[1;33m)\u001b[0m\u001b[1;33m\u001b[0m\u001b[1;33m\u001b[0m\u001b[0m\n\u001b[1;32m----> 3\u001b[1;33m \u001b[0mAdd_value\u001b[0m \u001b[1;33m=\u001b[0m \u001b[0madd_function\u001b[0m\u001b[1;33m(\u001b[0m\u001b[0mValue1\u001b[0m\u001b[1;33m,\u001b[0m\u001b[0mValue2\u001b[0m\u001b[1;33m)\u001b[0m\u001b[1;33m\u001b[0m\u001b[1;33m\u001b[0m\u001b[0m\n\u001b[0m\u001b[0;32m      4\u001b[0m \u001b[0mprint\u001b[0m\u001b[1;33m(\u001b[0m\u001b[1;34m\"Sum of Two given numbers is : \"\u001b[0m\u001b[1;33m,\u001b[0m \u001b[0mAdd_value\u001b[0m\u001b[1;33m)\u001b[0m\u001b[1;33m\u001b[0m\u001b[1;33m\u001b[0m\u001b[0m\n",
      "\u001b[1;32m~\\AppData\\Local\\Temp/ipykernel_43884/1526803270.py\u001b[0m in \u001b[0;36madd_function\u001b[1;34m(input1, input2)\u001b[0m\n\u001b[0;32m      1\u001b[0m \u001b[1;32mdef\u001b[0m \u001b[0madd_function\u001b[0m\u001b[1;33m(\u001b[0m\u001b[0minput1\u001b[0m\u001b[1;33m,\u001b[0m\u001b[0minput2\u001b[0m\u001b[1;33m)\u001b[0m\u001b[1;33m:\u001b[0m\u001b[1;33m\u001b[0m\u001b[1;33m\u001b[0m\u001b[0m\n\u001b[0;32m      2\u001b[0m     \u001b[1;34m\"\"\"This function will add given two numbers and return the Sum\"\"\"\u001b[0m\u001b[1;33m\u001b[0m\u001b[1;33m\u001b[0m\u001b[0m\n\u001b[1;32m----> 3\u001b[1;33m     \u001b[0mSum\u001b[0m\u001b[1;33m=\u001b[0m\u001b[0minput1\u001b[0m\u001b[1;33m+\u001b[0m\u001b[0minput2\u001b[0m\u001b[1;33m\u001b[0m\u001b[1;33m\u001b[0m\u001b[0m\n\u001b[0m\u001b[0;32m      4\u001b[0m     \u001b[1;32mreturn\u001b[0m \u001b[0mSum\u001b[0m\u001b[1;33m\u001b[0m\u001b[1;33m\u001b[0m\u001b[0m\n",
      "\u001b[1;31mTypeError\u001b[0m: can only concatenate str (not \"int\") to str"
     ]
    }
   ],
   "source": [
    "Value1 = input(\"Please enter number 1: \")\n",
    "Value2 = int(input(\"Please enter number 2: \"))\n",
    "Add_value = add_function(Value1,Value2)\n",
    "print(\"Sum of Two given numbers is : \", Add_value)"
   ]
  },
  {
   "cell_type": "markdown",
   "id": "8c99e131",
   "metadata": {},
   "source": [
    "### 3. Create a string variable for the word “Data Science” and see if the letter “s” is present in it using membership operators"
   ]
  },
  {
   "cell_type": "code",
   "execution_count": 9,
   "id": "6b5b128c",
   "metadata": {},
   "outputs": [
    {
     "name": "stdout",
     "output_type": "stream",
     "text": [
      "Please enter the letter to find if it is present :s\n",
      "Given letter is NOT Present\n"
     ]
    }
   ],
   "source": [
    "String_val = 'Data Science'\n",
    "input_val = input(\"Please enter the letter to find if it is present :\")\n",
    "if input_val in String_val:\n",
    "    print(\"Given letter is Present\")\n",
    "else:\n",
    "    print(\"Given letter is NOT Present\")"
   ]
  },
  {
   "cell_type": "code",
   "execution_count": 10,
   "id": "f4a48006",
   "metadata": {},
   "outputs": [
    {
     "name": "stdout",
     "output_type": "stream",
     "text": [
      "Please enter the letter to find if it is present :S\n",
      "Given letter is Present\n"
     ]
    }
   ],
   "source": [
    "input_val = input(\"Please enter the letter to find if it is present :\")\n",
    "if input_val in String_val:\n",
    "    print(\"Given letter is Present\")\n",
    "else:\n",
    "    print(\"Given letter is NOT Present\")"
   ]
  },
  {
   "cell_type": "markdown",
   "id": "cc4cda86",
   "metadata": {},
   "source": [
    "### 4. Write a function and pass a number list as an argument to the function. And return True if the first and last number of a given list is same. If numbers are different then return False"
   ]
  },
  {
   "cell_type": "code",
   "execution_count": 11,
   "id": "55df3105",
   "metadata": {},
   "outputs": [],
   "source": [
    "def funct_List_compare(arg1):\n",
    "    \"\"\"Function to compare return True if the first and last number of a given list is same. If numbers are different then return False\"\"\"\n",
    "    print(arg1)\n",
    "    if arg1[0] == arg1[-1]:\n",
    "        print(\"First and last number of the given list is same\")\n",
    "        return True\n",
    "    else:\n",
    "        print(\"First and last number of the given list is different\")\n",
    "        return False"
   ]
  },
  {
   "cell_type": "code",
   "execution_count": 12,
   "id": "b43e9475",
   "metadata": {},
   "outputs": [
    {
     "name": "stdout",
     "output_type": "stream",
     "text": [
      "[1, 2, 3, 4, 5]\n",
      "First and last number of the given list is different\n"
     ]
    },
    {
     "data": {
      "text/plain": [
       "False"
      ]
     },
     "execution_count": 12,
     "metadata": {},
     "output_type": "execute_result"
    }
   ],
   "source": [
    "List1 = [1,2,3,4,5]\n",
    "funct_List_compare(List1)"
   ]
  },
  {
   "cell_type": "code",
   "execution_count": 13,
   "id": "cdcf6b03",
   "metadata": {},
   "outputs": [
    {
     "name": "stdout",
     "output_type": "stream",
     "text": [
      "[1, 2, 3, 4, 1]\n",
      "First and last number of the given list is same\n"
     ]
    },
    {
     "data": {
      "text/plain": [
       "True"
      ]
     },
     "execution_count": 13,
     "metadata": {},
     "output_type": "execute_result"
    }
   ],
   "source": [
    "List2 = [1,2,3,4,1]\n",
    "funct_List_compare(List2)"
   ]
  },
  {
   "cell_type": "markdown",
   "id": "9099c7fb",
   "metadata": {},
   "source": [
    "### 5. Iterate the given list of numbers (l1) and print only those numbers which are divisible by 5. (l1 = [10, 20, 33, 46, 55])"
   ]
  },
  {
   "cell_type": "code",
   "execution_count": 14,
   "id": "2cd3213a",
   "metadata": {},
   "outputs": [
    {
     "name": "stdout",
     "output_type": "stream",
     "text": [
      "The numbers which are divisible by 5 are : [10, 20, 55]\n"
     ]
    }
   ],
   "source": [
    "l1 = [10,20,33,46,55]\n",
    "list_iter = [i for i in l1 if i%5 == 0]\n",
    "print(\"The numbers which are divisible by 5 are :\", list_iter)"
   ]
  },
  {
   "cell_type": "markdown",
   "id": "b91dac8f",
   "metadata": {},
   "source": [
    "### 6. Write a program to create function calculation() such that it can accept two variables and calculate addition and subtraction. Also, it must return both addition and subtraction in a single return call."
   ]
  },
  {
   "cell_type": "markdown",
   "id": "5a0e31f3",
   "metadata": {},
   "source": [
    "#### a. Hint: Separate return values with a comma"
   ]
  },
  {
   "cell_type": "code",
   "execution_count": 19,
   "id": "fd1e48e2",
   "metadata": {},
   "outputs": [],
   "source": [
    "def calculation(arg1,arg2):\n",
    "    \"\"\"Function to return addition and subtraction results of the values passed\"\"\"\n",
    "    print(\"The first value entered is : \", arg1)\n",
    "    print(\"The second value entered is : \", arg2)\n",
    "    ## Addition \n",
    "    Add_result = arg1 + arg2\n",
    "    ## Subtraction\n",
    "    Sub_result = arg1 - arg2\n",
    "    if Sub_result < 0:\n",
    "        Sub_result = Sub_result * -1\n",
    "    \n",
    "    ## Returning the results\n",
    "    return Add_result, Sub_result"
   ]
  },
  {
   "cell_type": "code",
   "execution_count": 17,
   "id": "2e9b1d7d",
   "metadata": {},
   "outputs": [
    {
     "name": "stdout",
     "output_type": "stream",
     "text": [
      "Enter the First Number : 25\n",
      "Enter the Second Number : 13\n",
      "The first value entered is :  25\n",
      "The second value entered is : :  13\n",
      "Calculated value for Addition of 2 given numbers is :  38\n",
      "Calculated value for Subtraction of 2 given numbers is :  12\n"
     ]
    }
   ],
   "source": [
    "input1 = int(input(\"Enter the First Number : \"))\n",
    "input2 = int(input (\"Enter the Second Number : \"))\n",
    "\n",
    "add_value, sub_value = calculation(input1,input2)\n",
    "\n",
    "print(\"Calculated value for Addition of 2 given numbers is : \", add_value)\n",
    "print(\"Calculated value for Subtraction of 2 given numbers is : \", sub_value)"
   ]
  },
  {
   "cell_type": "code",
   "execution_count": 18,
   "id": "7fca18c9",
   "metadata": {},
   "outputs": [
    {
     "name": "stdout",
     "output_type": "stream",
     "text": [
      "Enter the First Number : 26\n",
      "Enter the Second Number : 55\n",
      "The first value entered is :  26\n",
      "The second value entered is : :  55\n",
      "Calculated value for Addition of 2 given numbers is :  81\n",
      "Calculated value for Subtraction of 2 given numbers is :  29\n"
     ]
    }
   ],
   "source": [
    "## When the input value 2 is greater than first value entered \n",
    "\n",
    "input1 = int(input(\"Enter the First Number : \"))\n",
    "input2 = int(input (\"Enter the Second Number : \"))\n",
    "\n",
    "add_value, sub_value = calculation(input1,input2)\n",
    "\n",
    "print(\"Calculated value for Addition of 2 given numbers is : \", add_value)\n",
    "print(\"Calculated value for Subtraction of 2 given numbers is : \", sub_value)"
   ]
  },
  {
   "cell_type": "markdown",
   "id": "3ce790a3",
   "metadata": {},
   "source": [
    "### 7. Write a program to demonstrate the following Syntax error"
   ]
  },
  {
   "cell_type": "markdown",
   "id": "cee7e56b",
   "metadata": {},
   "source": [
    "#### a. SyntaxError: non-default argument follows default argument"
   ]
  },
  {
   "cell_type": "code",
   "execution_count": 20,
   "id": "96152574",
   "metadata": {},
   "outputs": [
    {
     "ename": "SyntaxError",
     "evalue": "non-default argument follows default argument (Temp/ipykernel_43884/1613852674.py, line 1)",
     "output_type": "error",
     "traceback": [
      "\u001b[1;36m  File \u001b[1;32m\"C:\\Users\\user\\AppData\\Local\\Temp/ipykernel_43884/1613852674.py\"\u001b[1;36m, line \u001b[1;32m1\u001b[0m\n\u001b[1;33m    def syn_err_arg(var1 = 'Koteeswaran', var2):\u001b[0m\n\u001b[1;37m                                              ^\u001b[0m\n\u001b[1;31mSyntaxError\u001b[0m\u001b[1;31m:\u001b[0m non-default argument follows default argument\n"
     ]
    }
   ],
   "source": [
    "def syn_err_arg(var1 = 'Koteeswaran', var2):\n",
    "    print(\"First argument :\", var1)\n",
    "    print(\"Second argument :\", var2)"
   ]
  },
  {
   "cell_type": "code",
   "execution_count": 21,
   "id": "86fcf0f7",
   "metadata": {},
   "outputs": [
    {
     "ename": "SyntaxError",
     "evalue": "invalid syntax (Temp/ipykernel_43884/2888764544.py, line 1)",
     "output_type": "error",
     "traceback": [
      "\u001b[1;36m  File \u001b[1;32m\"C:\\Users\\user\\AppData\\Local\\Temp/ipykernel_43884/2888764544.py\"\u001b[1;36m, line \u001b[1;32m1\u001b[0m\n\u001b[1;33m    def syn_err_arg(100, var2):\u001b[0m\n\u001b[1;37m                    ^\u001b[0m\n\u001b[1;31mSyntaxError\u001b[0m\u001b[1;31m:\u001b[0m invalid syntax\n"
     ]
    }
   ],
   "source": [
    "def syn_err_arg(100, var2):\n",
    "    print(\"First argument :\", var1)\n",
    "    print(\"Second argument :\", var2)"
   ]
  },
  {
   "cell_type": "code",
   "execution_count": 22,
   "id": "3f9fba36",
   "metadata": {},
   "outputs": [
    {
     "ename": "SyntaxError",
     "evalue": "non-default argument follows default argument (Temp/ipykernel_43884/1067932234.py, line 1)",
     "output_type": "error",
     "traceback": [
      "\u001b[1;36m  File \u001b[1;32m\"C:\\Users\\user\\AppData\\Local\\Temp/ipykernel_43884/1067932234.py\"\u001b[1;36m, line \u001b[1;32m1\u001b[0m\n\u001b[1;33m    def syn_err_arg(var1 = 100, var2):\u001b[0m\n\u001b[1;37m                                    ^\u001b[0m\n\u001b[1;31mSyntaxError\u001b[0m\u001b[1;31m:\u001b[0m non-default argument follows default argument\n"
     ]
    }
   ],
   "source": [
    "def syn_err_arg(var1 = 100, var2):\n",
    "    print(\"First argument :\", var1)\n",
    "    print(\"Second argument :\", var2)"
   ]
  },
  {
   "cell_type": "markdown",
   "id": "d2c9ec7f",
   "metadata": {},
   "source": [
    "### 8. What’s recursion? Explain in your own words and write a program to create a recursive function to calculate the sum of numbers from 0 to 10"
   ]
  },
  {
   "cell_type": "markdown",
   "id": "5ec1281e",
   "metadata": {},
   "source": [
    "Recursion is a repeated action being performed or a function which can call itself to perform any repreated operation"
   ]
  },
  {
   "cell_type": "code",
   "execution_count": 27,
   "id": "b24dc246",
   "metadata": {},
   "outputs": [],
   "source": [
    "def recursion_add(arg1):\n",
    "    \"\"\"recursion function to add sum of number given and the below numbers\"\"\"\n",
    "    ##print(\"The number entered is : \", arg1)\n",
    "    if arg1 <=0:\n",
    "        print(\"The entered number should be greater than Zero\")\n",
    "        return\n",
    "    elif arg1 == 1:\n",
    "        return arg1\n",
    "    else:\n",
    "        return (arg1 + recursion_add(arg1-1))"
   ]
  },
  {
   "cell_type": "code",
   "execution_count": 28,
   "id": "35549a14",
   "metadata": {},
   "outputs": [
    {
     "name": "stdout",
     "output_type": "stream",
     "text": [
      "Enter the number : 10\n",
      "The sum of numbers is :  55\n"
     ]
    }
   ],
   "source": [
    "input1 = int(input(\"Enter the number : \"))\n",
    "result = recursion_add(input1)\n",
    "print(\"The sum of numbers is : \", result)"
   ]
  },
  {
   "cell_type": "code",
   "execution_count": 29,
   "id": "070c5509",
   "metadata": {},
   "outputs": [
    {
     "name": "stdout",
     "output_type": "stream",
     "text": [
      "Enter the number : -10\n",
      "The entered number should be greater than Zero\n",
      "The sum of numbers is :  None\n"
     ]
    }
   ],
   "source": [
    "input1 = int(input(\"Enter the number : \"))\n",
    "result = recursion_add(input1)\n",
    "print(\"The sum of numbers is : \", result)"
   ]
  },
  {
   "cell_type": "markdown",
   "id": "93f199e5",
   "metadata": {},
   "source": [
    "### 9. Use filter and lambda function to calculate square for below numbers only if they are odd number\n",
    "### a. [12, 11, 53, 22, 21, 77, 87, 88, 98]"
   ]
  },
  {
   "cell_type": "code",
   "execution_count": 2,
   "id": "e6aa21fa",
   "metadata": {},
   "outputs": [
    {
     "name": "stdout",
     "output_type": "stream",
     "text": [
      "[11, 53, 21, 77, 87]\n"
     ]
    }
   ],
   "source": [
    "lista = [12, 11, 53, 22, 21, 77, 87, 88, 98]\n",
    "list_odd = list(filter(lambda x:x%2 != 0, lista))\n",
    "print(list_odd)"
   ]
  },
  {
   "cell_type": "code",
   "execution_count": 3,
   "id": "0bca0b34",
   "metadata": {},
   "outputs": [
    {
     "name": "stdout",
     "output_type": "stream",
     "text": [
      "[121, 2809, 441, 5929, 7569]\n"
     ]
    }
   ],
   "source": [
    "list_square = list(map(lambda x: x*x,list_odd))\n",
    "print(list_square)"
   ]
  },
  {
   "cell_type": "code",
   "execution_count": 4,
   "id": "e98933be",
   "metadata": {},
   "outputs": [
    {
     "name": "stdout",
     "output_type": "stream",
     "text": [
      "[121, 2809, 441, 5929, 7569]\n"
     ]
    }
   ],
   "source": [
    "lista = [12, 11, 53, 22, 21, 77, 87, 88, 98]\n",
    "list_odd = list(filter(lambda x:x%2 != 0, lista))\n",
    "list_square = list(map(lambda x: x*x,list_odd))\n",
    "print(list_square)"
   ]
  },
  {
   "cell_type": "code",
   "execution_count": 5,
   "id": "6ed4e37c",
   "metadata": {},
   "outputs": [
    {
     "name": "stdout",
     "output_type": "stream",
     "text": [
      "[121, 2809, 441, 5929, 7569]\n"
     ]
    }
   ],
   "source": [
    "list_square = list(map(lambda x: x*x,list(filter(lambda x:x%2 != 0, lista))))\n",
    "print(list_square)"
   ]
  },
  {
   "cell_type": "markdown",
   "id": "739fcaea",
   "metadata": {},
   "source": [
    "### 10. Write a function (not a lambda function) and use it to demonstrate an example for map function (any logical function of your choice)"
   ]
  },
  {
   "cell_type": "code",
   "execution_count": 6,
   "id": "6af6a26e",
   "metadata": {},
   "outputs": [],
   "source": [
    "def map_function(list5):\n",
    "    \"\"\"This is a logical function similar to perform the same operation of map operation in question 9\"\"\"\n",
    "    print(\"The elements in list are :\",list5)\n",
    "    list_square = []\n",
    "    for i in list5:\n",
    "        if (i%2 != 0):\n",
    "            list_square.append(i*i)\n",
    "        else:\n",
    "            continue\n",
    "    return list_square"
   ]
  },
  {
   "cell_type": "code",
   "execution_count": 7,
   "id": "d76c6af6",
   "metadata": {},
   "outputs": [
    {
     "name": "stdout",
     "output_type": "stream",
     "text": [
      "The elements in list are : [12, 11, 53, 22, 21, 77, 87, 88, 98]\n",
      "output of square of odd number from the given list [121, 2809, 441, 5929, 7569]\n"
     ]
    }
   ],
   "source": [
    "listb = [12, 11, 53, 22, 21, 77, 87, 88, 98]\n",
    "output = map_function(listb)\n",
    "print(\"output of square of odd number from the given list\", output)"
   ]
  },
  {
   "cell_type": "code",
   "execution_count": null,
   "id": "8e308b8c",
   "metadata": {},
   "outputs": [],
   "source": []
  }
 ],
 "metadata": {
  "kernelspec": {
   "display_name": "Python 3 (ipykernel)",
   "language": "python",
   "name": "python3"
  },
  "language_info": {
   "codemirror_mode": {
    "name": "ipython",
    "version": 3
   },
   "file_extension": ".py",
   "mimetype": "text/x-python",
   "name": "python",
   "nbconvert_exporter": "python",
   "pygments_lexer": "ipython3",
   "version": "3.9.7"
  }
 },
 "nbformat": 4,
 "nbformat_minor": 5
}
