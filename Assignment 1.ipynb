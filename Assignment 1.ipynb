{
 "cells": [
  {
   "cell_type": "markdown",
   "id": "5780dc78",
   "metadata": {},
   "source": [
    "1.\tImport the necessary package to\n",
    "a.\tSet the current working directory\n",
    "b.\tChange the working directory"
   ]
  },
  {
   "cell_type": "code",
   "execution_count": 1,
   "id": "76b9f108",
   "metadata": {},
   "outputs": [],
   "source": [
    "import my_package"
   ]
  },
  {
   "cell_type": "code",
   "execution_count": 2,
   "id": "a3415e09",
   "metadata": {},
   "outputs": [],
   "source": [
    "from my_package import test_package"
   ]
  },
  {
   "cell_type": "code",
   "execution_count": 3,
   "id": "69dc65fd",
   "metadata": {},
   "outputs": [
    {
     "data": {
      "text/plain": [
       "'Koteeswaran'"
      ]
     },
     "execution_count": 3,
     "metadata": {},
     "output_type": "execute_result"
    }
   ],
   "source": [
    "test_package.name"
   ]
  },
  {
   "cell_type": "code",
   "execution_count": 4,
   "id": "5c472953",
   "metadata": {},
   "outputs": [
    {
     "data": {
      "text/plain": [
       "'koteeswaran.n@gmail.com'"
      ]
     },
     "execution_count": 4,
     "metadata": {},
     "output_type": "execute_result"
    }
   ],
   "source": [
    "test_package.email"
   ]
  },
  {
   "cell_type": "markdown",
   "id": "ab549ccd",
   "metadata": {},
   "source": [
    "2.\tCreate the string, int and float variable and delete them all in the next cell"
   ]
  },
  {
   "cell_type": "code",
   "execution_count": 5,
   "id": "fa2ba7c6",
   "metadata": {},
   "outputs": [],
   "source": [
    "a = 'Koteeswaran' ; b = 10 ; c = 7.5"
   ]
  },
  {
   "cell_type": "code",
   "execution_count": 6,
   "id": "ec76185d",
   "metadata": {},
   "outputs": [
    {
     "name": "stdout",
     "output_type": "stream",
     "text": [
      "Koteeswaran 10 7.5\n"
     ]
    }
   ],
   "source": [
    "print(a,b,c)"
   ]
  },
  {
   "cell_type": "code",
   "execution_count": 7,
   "id": "ee44c2f9",
   "metadata": {},
   "outputs": [],
   "source": [
    "del (a,b,c)"
   ]
  },
  {
   "cell_type": "code",
   "execution_count": 8,
   "id": "fb2a96db",
   "metadata": {},
   "outputs": [
    {
     "ename": "NameError",
     "evalue": "name 'a' is not defined",
     "output_type": "error",
     "traceback": [
      "\u001b[1;31m---------------------------------------------------------------------------\u001b[0m",
      "\u001b[1;31mNameError\u001b[0m                                 Traceback (most recent call last)",
      "\u001b[1;32m~\\AppData\\Local\\Temp/ipykernel_5832/992516455.py\u001b[0m in \u001b[0;36m<module>\u001b[1;34m\u001b[0m\n\u001b[1;32m----> 1\u001b[1;33m \u001b[0mprint\u001b[0m\u001b[1;33m(\u001b[0m\u001b[0ma\u001b[0m\u001b[1;33m,\u001b[0m\u001b[0mb\u001b[0m\u001b[1;33m,\u001b[0m\u001b[0mc\u001b[0m\u001b[1;33m)\u001b[0m\u001b[1;33m\u001b[0m\u001b[1;33m\u001b[0m\u001b[0m\n\u001b[0m",
      "\u001b[1;31mNameError\u001b[0m: name 'a' is not defined"
     ]
    }
   ],
   "source": [
    "print(a,b,c)"
   ]
  },
  {
   "cell_type": "markdown",
   "id": "c616a1df",
   "metadata": {},
   "source": [
    "3.\tWhat’s the result of assigning a value to a ‘keyword’?\n",
    "a.\tPlease highlight the error"
   ]
  },
  {
   "cell_type": "code",
   "execution_count": 9,
   "id": "bcd4f7e4",
   "metadata": {},
   "outputs": [
    {
     "ename": "SyntaxError",
     "evalue": "invalid syntax (Temp/ipykernel_5832/3937192941.py, line 1)",
     "output_type": "error",
     "traceback": [
      "\u001b[1;36m  File \u001b[1;32m\"C:\\Users\\user\\AppData\\Local\\Temp/ipykernel_5832/3937192941.py\"\u001b[1;36m, line \u001b[1;32m1\u001b[0m\n\u001b[1;33m    for = 'Koteeswaran'\u001b[0m\n\u001b[1;37m        ^\u001b[0m\n\u001b[1;31mSyntaxError\u001b[0m\u001b[1;31m:\u001b[0m invalid syntax\n"
     ]
    }
   ],
   "source": [
    "for = 'Koteeswaran'"
   ]
  },
  {
   "cell_type": "markdown",
   "id": "df0724b6",
   "metadata": {},
   "source": [
    "4.\tHow to write a multi-line statement and assign it to a variable (Note: Without using a backslash “\\” at the end of each line)"
   ]
  },
  {
   "cell_type": "code",
   "execution_count": 10,
   "id": "2f56b60d",
   "metadata": {},
   "outputs": [
    {
     "name": "stdout",
     "output_type": "stream",
     "text": [
      "353\n"
     ]
    }
   ],
   "source": [
    "Multi_line_variable = (12 + 15 + 22 + \n",
    "41 + 36 + 52 + \n",
    "66 + 89 + 20)\n",
    "print(Multi_line_variable)"
   ]
  },
  {
   "cell_type": "markdown",
   "id": "5d4243c0",
   "metadata": {},
   "source": [
    "5.\tPrint the list of numbers from 100 to 999 with an interval (step size) of 8 between the numbers"
   ]
  },
  {
   "cell_type": "code",
   "execution_count": 11,
   "id": "beab9167",
   "metadata": {},
   "outputs": [
    {
     "name": "stdout",
     "output_type": "stream",
     "text": [
      "100\n",
      "108\n",
      "116\n",
      "124\n",
      "132\n",
      "140\n",
      "148\n",
      "156\n",
      "164\n",
      "172\n",
      "180\n",
      "188\n",
      "196\n",
      "204\n",
      "212\n",
      "220\n",
      "228\n",
      "236\n",
      "244\n",
      "252\n",
      "260\n",
      "268\n",
      "276\n",
      "284\n",
      "292\n",
      "300\n",
      "308\n",
      "316\n",
      "324\n",
      "332\n",
      "340\n",
      "348\n",
      "356\n",
      "364\n",
      "372\n",
      "380\n",
      "388\n",
      "396\n",
      "404\n",
      "412\n",
      "420\n",
      "428\n",
      "436\n",
      "444\n",
      "452\n",
      "460\n",
      "468\n",
      "476\n",
      "484\n",
      "492\n",
      "500\n",
      "508\n",
      "516\n",
      "524\n",
      "532\n",
      "540\n",
      "548\n",
      "556\n",
      "564\n",
      "572\n",
      "580\n",
      "588\n",
      "596\n",
      "604\n",
      "612\n",
      "620\n",
      "628\n",
      "636\n",
      "644\n",
      "652\n",
      "660\n",
      "668\n",
      "676\n",
      "684\n",
      "692\n",
      "700\n",
      "708\n",
      "716\n",
      "724\n",
      "732\n",
      "740\n",
      "748\n",
      "756\n",
      "764\n",
      "772\n",
      "780\n",
      "788\n",
      "796\n",
      "804\n",
      "812\n",
      "820\n",
      "828\n",
      "836\n",
      "844\n",
      "852\n",
      "860\n",
      "868\n",
      "876\n",
      "884\n",
      "892\n",
      "900\n",
      "908\n",
      "916\n",
      "924\n",
      "932\n",
      "940\n",
      "948\n",
      "956\n",
      "964\n",
      "972\n",
      "980\n",
      "988\n",
      "996\n"
     ]
    }
   ],
   "source": [
    "for i in range(100,999,8): print(i)"
   ]
  },
  {
   "cell_type": "markdown",
   "id": "b89d259f",
   "metadata": {},
   "source": [
    "6.\tWrite a “for” loop to print out the ‘n’ values and break out of the statement if the value is ‘n/2’"
   ]
  },
  {
   "cell_type": "code",
   "execution_count": 12,
   "id": "cf59bdde",
   "metadata": {},
   "outputs": [
    {
     "name": "stdout",
     "output_type": "stream",
     "text": [
      "Please input the value:20\n",
      "0.0\n",
      "0.5\n",
      "1.0\n",
      "1.5\n",
      "2.0\n",
      "2.5\n",
      "3.0\n",
      "3.5\n",
      "4.0\n",
      "4.5\n",
      "5.0\n"
     ]
    }
   ],
   "source": [
    "value = int(input(\"Please input the value:\"))\n",
    "for i in range(value):\n",
    "    print (i/2)\n",
    "    if (i == value/2):\n",
    "        break"
   ]
  },
  {
   "cell_type": "markdown",
   "id": "9040d86a",
   "metadata": {},
   "source": [
    "7.\tWrite a simple function and call the docstring from outside the function"
   ]
  },
  {
   "cell_type": "code",
   "execution_count": 17,
   "id": "ab264719",
   "metadata": {},
   "outputs": [],
   "source": [
    "def multiply_function(value1,value2):\n",
    "    \"\"\"My first function to multiply the value given values and print the same\"\"\"\n",
    "    Result = value1 * value2\n",
    "    print(Result)"
   ]
  },
  {
   "cell_type": "code",
   "execution_count": 18,
   "id": "ad21a98c",
   "metadata": {},
   "outputs": [
    {
     "name": "stdout",
     "output_type": "stream",
     "text": [
      "12\n"
     ]
    }
   ],
   "source": [
    "multiply_function(3,4)"
   ]
  },
  {
   "cell_type": "code",
   "execution_count": 19,
   "id": "7b29e53b",
   "metadata": {},
   "outputs": [
    {
     "name": "stdout",
     "output_type": "stream",
     "text": [
      "My first function to multiply the value given values and print the same\n"
     ]
    }
   ],
   "source": [
    "print(multiply_function.__doc__)"
   ]
  },
  {
   "cell_type": "markdown",
   "id": "a9002b26",
   "metadata": {},
   "source": [
    "8.\tCreate a user-defined package in ‘site-packages’ with below 3 variables a, b and c. Import these variables and write a function to calculate the area of triangle for below 3 sides (a, b, c). Calculate the semi-perimeter (s) first, to calculate the area of triangle (area) at last\n",
    "<< Formula to calculate semi-perimeter: s = (a+b+c )/2\n",
    "<< Formula to calculate area = (s*(s-a) * (s-b) * (s-c)) ** 0.5 >>\n",
    "a.\t15\n",
    "b.\t51\n",
    "c.\t17"
   ]
  },
  {
   "cell_type": "code",
   "execution_count": 20,
   "id": "5333c956",
   "metadata": {},
   "outputs": [
    {
     "name": "stdout",
     "output_type": "stream",
     "text": [
      "Enter value for a:2\n",
      "Enter value for b:3\n",
      "Enter value for c:4\n",
      "4.5\n",
      "2.9047375096555625\n"
     ]
    }
   ],
   "source": [
    "from my_package import triangle_area_calc"
   ]
  },
  {
   "cell_type": "markdown",
   "id": "2a3200a5",
   "metadata": {},
   "source": [
    "9.\tWrite a list comprehension to print the odd numbers from 0 to 100"
   ]
  },
  {
   "cell_type": "code",
   "execution_count": 23,
   "id": "e3b83368",
   "metadata": {},
   "outputs": [
    {
     "name": "stdout",
     "output_type": "stream",
     "text": [
      "[1, 3, 5, 7, 9, 11, 13, 15, 17, 19, 21, 23, 25, 27, 29, 31, 33, 35, 37, 39, 41, 43, 45, 47, 49, 51, 53, 55, 57, 59, 61, 63, 65, 67, 69, 71, 73, 75, 77, 79, 81, 83, 85, 87, 89, 91, 93, 95, 97, 99]\n"
     ]
    }
   ],
   "source": [
    "List1 = [a for a in range(0, 100) if a%2 != 0]\n",
    "print(List1)"
   ]
  },
  {
   "cell_type": "markdown",
   "id": "c93dd8a0",
   "metadata": {},
   "source": [
    "10.\t Create a variable (ex: name) and store your full name in it. Then write a list comprehension to print your name excluding vowels (a, e, i, o, u)\n",
    "a.\tEx: name = Imran\n",
    "b.\tOutput = [‘m’, ‘r’, ‘n’]"
   ]
  },
  {
   "cell_type": "code",
   "execution_count": 24,
   "id": "e12528b4",
   "metadata": {},
   "outputs": [
    {
     "name": "stdout",
     "output_type": "stream",
     "text": [
      "Please input your name: koteeswaran\n",
      "['k', 't', 's', 'w', 'r', 'n']\n"
     ]
    }
   ],
   "source": [
    "Name = [a for a in input(\"Please input your name: \") if a not in 'aeiou']\n",
    "print(Name)"
   ]
  },
  {
   "cell_type": "code",
   "execution_count": null,
   "id": "e5811c16",
   "metadata": {},
   "outputs": [],
   "source": []
  }
 ],
 "metadata": {
  "kernelspec": {
   "display_name": "Python 3 (ipykernel)",
   "language": "python",
   "name": "python3"
  },
  "language_info": {
   "codemirror_mode": {
    "name": "ipython",
    "version": 3
   },
   "file_extension": ".py",
   "mimetype": "text/x-python",
   "name": "python",
   "nbconvert_exporter": "python",
   "pygments_lexer": "ipython3",
   "version": "3.9.7"
  }
 },
 "nbformat": 4,
 "nbformat_minor": 5
}
